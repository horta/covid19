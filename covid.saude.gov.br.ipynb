{
 "cells": [
  {
   "cell_type": "code",
   "execution_count": 1,
   "metadata": {},
   "outputs": [],
   "source": [
    "import re\n",
    "\n",
    "import ipywidgets as widgets\n",
    "import pandas as pd\n",
    "import requests\n",
    "from IPython.display import display\n",
    "from matplotlib import pyplot as plt\n",
    "from tqdm.notebook import tqdm"
   ]
  },
  {
   "cell_type": "code",
   "execution_count": 2,
   "metadata": {},
   "outputs": [],
   "source": [
    "base_url = \"https://covid19br.s3-sa-east-1.amazonaws.com\""
   ]
  },
  {
   "cell_type": "code",
   "execution_count": 3,
   "metadata": {},
   "outputs": [],
   "source": [
    "r = requests.get(f\"{base_url}/?delimiter=/&prefix=pkl/\")"
   ]
  },
  {
   "cell_type": "code",
   "execution_count": 4,
   "metadata": {},
   "outputs": [],
   "source": [
    "filenames = re.findall(r\"<Key>(.+?)</Key>\", r.content.decode())\n",
    "filenames = [name for name in filenames if name.endswith(\"pkl\")]"
   ]
  },
  {
   "cell_type": "code",
   "execution_count": 6,
   "metadata": {},
   "outputs": [],
   "source": [
    "def month_number(month: str):\n",
    "    months = [\"jan\", \"fev\", \"mar\", \"abr\", \"mai\", \"jun\", \"jul\", \"ago\", \"set\", \"out\", \"nov\", \"dez\"]\n",
    "    convert = {j: i+1 for i, j in enumerate(months)}\n",
    "    return convert[month]\n",
    "\n",
    "def filename_date(name : str):\n",
    "    short = re.match(r\"^.*COVIDBR_(.*)\\.xlsx\\.pkl$\", name).group(1)\n",
    "    day = int(short[:2])\n",
    "    month = month_number(short[2:5])\n",
    "    year = int(short[5:])\n",
    "    return pd.Timestamp(year=year, month=month, day=day)\n",
    "\n",
    "def date_repr(date):\n",
    "    return \"{:02d}/{:02d}/{}\".format(date.day, date.month, date.year)"
   ]
  },
  {
   "cell_type": "code",
   "execution_count": 7,
   "metadata": {},
   "outputs": [],
   "source": [
    "filenames = sorted(filenames, key=lambda x: filename_date(x))\n",
    "options = [date_repr(filename_date(f)) for f in filenames]"
   ]
  },
  {
   "cell_type": "markdown",
   "metadata": {},
   "source": [
    "# Tabular files from https://covid.saude.gov.br"
   ]
  },
  {
   "cell_type": "code",
   "execution_count": 13,
   "metadata": {},
   "outputs": [
    {
     "data": {
      "text/plain": [
       "['pkl/16b5fddef7e95ef588be4905a04b7271_HIST_PAINEL_COVIDBR_01jun2020.xlsx.pkl',\n",
       " 'pkl/b018c99a75bbee61dafaa494a079ab5a_HIST_PAINEL_COVIDBR_31mai2020.xlsx.pkl',\n",
       " 'pkl/e358588704d7d7612d046fdf1f901131_HIST_PAINEL_COVIDBR_30mai2020.xlsx.pkl',\n",
       " 'pkl/e4a5151e6b13d290505bbceb00284d27_HIST_PAINEL_COVIDBR_29mai2020.xlsx.pkl',\n",
       " 'pkl/561126ce43be8c5dc4f8e016a17a7e1a_HIST_PAINEL_COVIDBR_28mai2020.xlsx.pkl',\n",
       " 'pkl/868d1c04f67df4b43f5acd1328b8f6d5_HIST_PAINEL_COVIDBR_27mai2020.xlsx.pkl',\n",
       " 'pkl/dfc17705543cc44ae2ce669b4ff9c2c0_HIST_PAINEL_COVIDBR_26mai2020.xlsx.pkl',\n",
       " 'pkl/102c312dac5175110604bfae93bbff02_HIST_PAINEL_COVIDBR_25mai2020.xlsx.pkl',\n",
       " 'pkl/f537be7f66c69a4927dd1bd754c55a2a_HIST_PAINEL_COVIDBR_24mai2020.xlsx.pkl',\n",
       " 'pkl/5d1f3f2a7f43ed55a26ac467d468219f_HIST_PAINEL_COVIDBR_23mai2020.xlsx.pkl',\n",
       " 'pkl/9013849cb451712f1121ef2cdee98587_HIST_PAINEL_COVIDBR_22mai2020.xlsx.pkl',\n",
       " 'pkl/xxxxxxxxxxxxxxxxxxxxxxxxxxxxxxxx_HIST_PAINEL_COVIDBR_21mai2020.xlsx.pkl',\n",
       " 'pkl/a3d153fe0e95aa7e0d3a585c317a1dc6_HIST_PAINEL_COVIDBR_20mai2020.xlsx.pkl',\n",
       " 'pkl/xxxxxxxxxxxxxxxxxxxxxxxxxxxxxxxx_HIST_PAINEL_COVIDBR_19mai2020.xlsx.pkl',\n",
       " 'pkl/xxxxxxxxxxxxxxxxxxxxxxxxxxxxxxxx_HIST_PAINEL_COVIDBR_18mai2020.xlsx.pkl',\n",
       " 'pkl/xxxxxxxxxxxxxxxxxxxxxxxxxxxxxxxx_HIST_PAINEL_COVIDBR_17mai2020.xlsx.pkl',\n",
       " 'pkl/xxxxxxxxxxxxxxxxxxxxxxxxxxxxxxxx_HIST_PAINEL_COVIDBR_16mai2020.xlsx.pkl',\n",
       " 'pkl/xxxxxxxxxxxxxxxxxxxxxxxxxxxxxxxx_HIST_PAINEL_COVIDBR_15mai2020.xlsx.pkl',\n",
       " 'pkl/xxxxxxxxxxxxxxxxxxxxxxxxxxxxxxxx_HIST_PAINEL_COVIDBR_14mai2020.xlsx.pkl']"
      ]
     },
     "execution_count": 13,
     "metadata": {},
     "output_type": "execute_result"
    }
   ],
   "source": [
    "# In pickle format for fast loading\n",
    "list(reversed(filenames))"
   ]
  },
  {
   "cell_type": "markdown",
   "metadata": {},
   "source": [
    "# Load dataframes"
   ]
  },
  {
   "cell_type": "code",
   "execution_count": 14,
   "metadata": {},
   "outputs": [
    {
     "data": {
      "application/vnd.jupyter.widget-view+json": {
       "model_id": "b5a8df161bbc4134ba8a366e3dc695f9",
       "version_major": 2,
       "version_minor": 0
      },
      "text/plain": [
       "HBox(children=(FloatProgress(value=0.0, max=19.0), HTML(value='')))"
      ]
     },
     "metadata": {},
     "output_type": "display_data"
    },
    {
     "name": "stdout",
     "output_type": "stream",
     "text": [
      "\n"
     ]
    }
   ],
   "source": [
    "df_map = {}\n",
    "for filename, opt in tqdm(list(zip(filenames, options))):\n",
    "    url = f\"{base_url}/{filename}\"\n",
    "    df_map[opt] = pd.read_pickle(url)"
   ]
  },
  {
   "cell_type": "code",
   "execution_count": 15,
   "metadata": {},
   "outputs": [],
   "source": [
    "date_slider = widgets.SelectionSlider(\n",
    "    options=[date_repr(filename_date(f)) for f in filenames],\n",
    "    value=date_repr(filename_date(filenames[-1])),\n",
    "    description='File date:',\n",
    "    disabled=False,\n",
    "    continuous_update=False,\n",
    "    orientation='horizontal',\n",
    "    readout=True\n",
    ")"
   ]
  },
  {
   "cell_type": "markdown",
   "metadata": {},
   "source": [
    "# Dataframes info"
   ]
  },
  {
   "cell_type": "code",
   "execution_count": 16,
   "metadata": {},
   "outputs": [
    {
     "data": {
      "application/vnd.jupyter.widget-view+json": {
       "model_id": "65cdfc95ce484ab7b1e333b0818f4e12",
       "version_major": 2,
       "version_minor": 0
      },
      "text/plain": [
       "interactive(children=(SelectionSlider(continuous_update=False, description='File date:', index=18, options=('1…"
      ]
     },
     "metadata": {},
     "output_type": "display_data"
    }
   ],
   "source": [
    "def func(x):\n",
    "    return df_map[x].info()\n",
    "\n",
    "widgets.interact(func, x=date_slider);"
   ]
  },
  {
   "cell_type": "markdown",
   "metadata": {},
   "source": [
    "# Counts"
   ]
  },
  {
   "cell_type": "markdown",
   "metadata": {},
   "source": [
    "## Regiao"
   ]
  },
  {
   "cell_type": "code",
   "execution_count": 17,
   "metadata": {},
   "outputs": [
    {
     "data": {
      "application/vnd.jupyter.widget-view+json": {
       "model_id": "3df34d3894744718a60625036be62cab",
       "version_major": 2,
       "version_minor": 0
      },
      "text/plain": [
       "interactive(children=(SelectionSlider(continuous_update=False, description='File date:', index=15, options=('1…"
      ]
     },
     "metadata": {},
     "output_type": "display_data"
    }
   ],
   "source": [
    "def func(x):\n",
    "    df = df_map[x]\n",
    "    axes = df[\"regiao\"].value_counts().sort_values().plot(kind=\"bar\")\n",
    "    axes.set_ylabel(\"counts\");\n",
    "\n",
    "widgets.interact(func, x=date_slider);"
   ]
  },
  {
   "cell_type": "markdown",
   "metadata": {},
   "source": [
    "## Estado"
   ]
  },
  {
   "cell_type": "code",
   "execution_count": 18,
   "metadata": {},
   "outputs": [
    {
     "data": {
      "application/vnd.jupyter.widget-view+json": {
       "model_id": "90a5007fb96a4e6f84c605ab7deb9d60",
       "version_major": 2,
       "version_minor": 0
      },
      "text/plain": [
       "interactive(children=(SelectionSlider(continuous_update=False, description='File date:', index=18, options=('1…"
      ]
     },
     "metadata": {},
     "output_type": "display_data"
    }
   ],
   "source": [
    "def func(x):\n",
    "    df = df_map[x]\n",
    "    axes = df[\"estado\"].value_counts().sort_values().plot(kind=\"bar\")\n",
    "    axes.set_ylabel(\"counts\");\n",
    "\n",
    "widgets.interact(func, x=date_slider);"
   ]
  },
  {
   "cell_type": "markdown",
   "metadata": {},
   "source": [
    "# Estado vs codigo"
   ]
  },
  {
   "cell_type": "code",
   "execution_count": 19,
   "metadata": {},
   "outputs": [
    {
     "data": {
      "application/vnd.jupyter.widget-view+json": {
       "model_id": "2e6612e651c04f95b3b7dfebacbd7b16",
       "version_major": 2,
       "version_minor": 0
      },
      "text/plain": [
       "interactive(children=(SelectionSlider(continuous_update=False, description='File date:', index=18, options=('1…"
      ]
     },
     "metadata": {},
     "output_type": "display_data"
    }
   ],
   "source": [
    "def func(x):\n",
    "    df = df_map[x]\n",
    "    df = df[[\"estado\", \"coduf\"]].drop_duplicates().sort_values(by=[\"estado\", \"coduf\"])\n",
    "    return df.reset_index(drop=True)\n",
    "\n",
    "widgets.interact(func, x=date_slider);"
   ]
  },
  {
   "cell_type": "markdown",
   "metadata": {},
   "source": [
    "# Missing rate"
   ]
  },
  {
   "cell_type": "code",
   "execution_count": 20,
   "metadata": {},
   "outputs": [
    {
     "data": {
      "application/vnd.jupyter.widget-view+json": {
       "model_id": "953e9caa7f94436d95c78278e58428b1",
       "version_major": 2,
       "version_minor": 0
      },
      "text/plain": [
       "interactive(children=(SelectionSlider(continuous_update=False, description='File date:', index=18, options=('1…"
      ]
     },
     "metadata": {},
     "output_type": "display_data"
    }
   ],
   "source": [
    "def func(x):\n",
    "    df = df_map[x]\n",
    "    df.apply(lambda x: sum(pd.isna(x))/len(x), axis=0).sort_index().plot(kind=\"bar\");\n",
    "\n",
    "widgets.interact(func, x=date_slider);"
   ]
  },
  {
   "cell_type": "markdown",
   "metadata": {},
   "source": [
    "# Casos acumulados"
   ]
  },
  {
   "cell_type": "code",
   "execution_count": 21,
   "metadata": {},
   "outputs": [
    {
     "data": {
      "application/vnd.jupyter.widget-view+json": {
       "model_id": "615d5aafb0554890b505e6da7263d4f8",
       "version_major": 2,
       "version_minor": 0
      },
      "text/plain": [
       "interactive(children=(SelectionSlider(continuous_update=False, description='File date:', index=18, options=('1…"
      ]
     },
     "metadata": {},
     "output_type": "display_data"
    }
   ],
   "source": [
    "def func(x):\n",
    "    df = df_map[x]\n",
    "    ax = df[df[\"regiao\"] == \"Brasil\"][[\"data\", \"casosAcumulado\"]].\\\n",
    "        rename(columns={\"casosAcumulado\": \"Brasil\"}).set_index(\"data\").plot()\n",
    "    ax.set_ylabel(\"casos acumulados\");\n",
    "\n",
    "widgets.interact(func, x=date_slider);"
   ]
  },
  {
   "cell_type": "code",
   "execution_count": 22,
   "metadata": {},
   "outputs": [
    {
     "data": {
      "application/vnd.jupyter.widget-view+json": {
       "model_id": "65b725aa01864802861389f29163a825",
       "version_major": 2,
       "version_minor": 0
      },
      "text/plain": [
       "interactive(children=(SelectionSlider(continuous_update=False, description='File date:', index=17, options=('1…"
      ]
     },
     "metadata": {},
     "output_type": "display_data"
    }
   ],
   "source": [
    "def func(x):\n",
    "    df = df_map[x]\n",
    "    ax = plt.subplot()\n",
    "    regioes = df[(df[\"regiao\"] != \"Brasil\")][\"regiao\"].unique()\n",
    "    for regiao in sorted(regioes):\n",
    "        df[(df[\"regiao\"] == regiao)].groupby([\"data\", \"estado\", \"codmun\"]).\\\n",
    "            sum()[[\"casosAcumulado\"]].groupby(level=0).\\\n",
    "            sum().rename(columns={\"casosAcumulado\": regiao}).plot(ax=ax)\n",
    "    ax.set_ylabel(\"casos acumulados\");\n",
    "\n",
    "widgets.interact(func, x=date_slider);"
   ]
  }
 ],
 "metadata": {
  "kernelspec": {
   "display_name": "Python 3",
   "language": "python",
   "name": "python3"
  },
  "language_info": {
   "codemirror_mode": {
    "name": "ipython",
    "version": 3
   },
   "file_extension": ".py",
   "mimetype": "text/x-python",
   "name": "python",
   "nbconvert_exporter": "python",
   "pygments_lexer": "ipython3",
   "version": "3.7.7"
  }
 },
 "nbformat": 4,
 "nbformat_minor": 4
}
